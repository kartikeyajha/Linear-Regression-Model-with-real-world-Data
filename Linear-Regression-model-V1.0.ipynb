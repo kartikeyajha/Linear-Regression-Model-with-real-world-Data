{
 "cells": [
  {
   "cell_type": "code",
   "execution_count": 1,
   "metadata": {},
   "outputs": [],
   "source": [
    "'''\n",
    "This is the list of all the libraries used to built Linear Regression from the scratch.\n",
    "pandas is imported to Read the csv file and do some preprocessing before actually training the model.\n",
    "train_test_split is imported to split the dataset into two parts :  1. Training Dataset\n",
    "                                                                    2. Test Dataset\n",
    "mean_absolute_error is imported to calculate the error in the predictions of our Linear Regression Model developed.\n",
    "'''\n",
    "import pandas as pd\n",
    "from sklearn.model_selection import train_test_split\n",
    "from sklearn.metrics import mean_absolute_error"
   ]
  },
  {
   "cell_type": "code",
   "execution_count": 2,
   "metadata": {},
   "outputs": [
    {
     "data": {
      "text/plain": [
       "Index(['Data', 'Temperatura Media (C)', 'Temperatura Minima (C)',\n",
       "       'Temperatura Maxima (C)', 'Precipitacao (mm)', 'Final de Semana',\n",
       "       'Consumo de cerveja (litros)'],\n",
       "      dtype='object')"
      ]
     },
     "execution_count": 2,
     "metadata": {},
     "output_type": "execute_result"
    }
   ],
   "source": [
    "'''\n",
    "The dataset is downloaded from Kaggle website link : \n",
    "The dataset has one small problem that the decimal points are actually ',' and not '.' thus I change it.\n",
    "'''\n",
    "df = pd.read_csv('beer-consumption.csv',decimal=',')\n",
    "df.columns"
   ]
  },
  {
   "cell_type": "code",
   "execution_count": 3,
   "metadata": {},
   "outputs": [],
   "source": [
    "'''\n",
    "Since actual data has more than one column (features) but we are doing Simple Linear Regression, we only need ONE feature. \n",
    "I chose AvgTemp as my feature or x as you will realise in the later code.\n",
    "Since this is a regression proble we need to find a Column that we will be predicting. For this purpose we chose BeerConsumption.\n",
    "BeerConsumption column is going to are y.  \n",
    "\n",
    "Actual data can consist of Null values in certain columns.\n",
    "There are different ways to handle it. \n",
    "    One of the value is to drop it.  \n",
    "    Another is to replace the Null values with a different value. Something like Mean or Median or Min/Max values of the column.\n",
    "Whatever we chose to do affects our Model training to a significant amount. \n",
    "For the sake on simplicity I am replacing the null values with Mean.\n",
    "'''\n",
    "\n",
    "df.columns = ['Date','AvgTemp','MinTemp','MaxTemp', 'Precipitation','Weekend','BeerConsumption']\n",
    "df.AvgTemp = df.AvgTemp.fillna(df.AvgTemp.mean())\n",
    "df.BeerConsumption =df.BeerConsumption.astype('float')\n",
    "df.BeerConsumption = df.BeerConsumption.fillna(df.BeerConsumption.mean())"
   ]
  },
  {
   "cell_type": "code",
   "execution_count": 4,
   "metadata": {},
   "outputs": [],
   "source": [
    "'''\n",
    "Over here, i am defining a variable and loading the required data into it. (That is the AvgTemp and BeerConsumption)\n",
    "Note i have done this is two different ways. Its just a way to write code. Either one is acceptable.\n",
    "Since we have only one column for X and y  the datatype of X and y is not DataFrame but Series.\n",
    "Check the Datatype of X and y but uncommenting the last time\n",
    "'''\n",
    "x = df['AvgTemp']\n",
    "y = df.BeerConsumption\n",
    "X_train, X_test, y_train, y_test = train_test_split(x,y, test_size = 0.2)\n",
    "#print('this type of x is {} and for y is {}'.format(type(X_test),type(y_test)))"
   ]
  },
  {
   "cell_type": "code",
   "execution_count": 5,
   "metadata": {},
   "outputs": [
    {
     "name": "stdout",
     "output_type": "stream",
     "text": [
      "18.405954152620264\n"
     ]
    }
   ],
   "source": [
    "#Cost Function : For Calculating about the cost (distance/error) from the line to the points (x)\n",
    "'''\n",
    "Cost functions help us to understand how we need to change the parameters so as to build a line which has the minimum cost of all the points from the Line which we are builing.\n",
    "\n",
    "Equation for the line is : y = mx+c\n",
    "y -> output \n",
    "m -> slope\n",
    "x -> input\n",
    "c -> intercept\n",
    "You can print the Cost Function by uncommenting the last line\n",
    "However while using the cost function later on I am feeding in the value of Slope and intercept\n",
    "'''\n",
    "def cost_function(X_train,y_train,slope=1.17,intercept=4.15):\n",
    "    N = len(x)\n",
    "    error_sum = 0.0\n",
    "    for i in range(N):\n",
    "        error_sum += (y[i]-(slope*x[i]+intercept))**2\n",
    "    avg_error = (error_sum/N)\n",
    "    return avg_error  \n",
    "print(cost_function(X_train,y_train))"
   ]
  },
  {
   "cell_type": "code",
   "execution_count": 6,
   "metadata": {},
   "outputs": [],
   "source": [
    "# Gradient Descent : For finding the correct value of m (slope) and c (intercept) \n",
    "'''\n",
    "For the sake of simplicity we are keeping the Learning rate as 0.001 (lr)\n",
    "Equation for Gradient Descent is : \n",
    "    For slope m      : 1/N Σ -2*x (y- (m*x+c))\n",
    "    For intercept    : 1/N Σ -2*(y- (m*x+c)) \n",
    "lr or Learning rate is the change along the line we make to find the optimum value of the Slope and Intercept.\n",
    "You can print the Gradient Descent by uncommenting the last line\n",
    "'''\n",
    "\n",
    "def gradient_descent(X_train,y_train,m=1.17,c=4.15,lr=0.001):\n",
    "    intercept_derivative = 0\n",
    "    slope_derivative = 0\n",
    "    N = len(x)\n",
    "    for i in range(N):\n",
    "        slope_derivative +=  -2*x[i]*(y[i]-(m*x[i]+c))\n",
    "        intercept_derivative +=  -2*(y[i]-(m*x[i]+c))\n",
    "    m -= (slope_derivative/N) * lr\n",
    "    c -= (intercept_derivative/N)*lr\n",
    "    return (m,c)\n",
    "#print(gradient_descent(X_train,y_train))"
   ]
  },
  {
   "cell_type": "code",
   "execution_count": 7,
   "metadata": {},
   "outputs": [],
   "source": [
    "'''\n",
    "Training the linear regression model is about finding the values of Slope m and Intercept c,\n",
    "such that the cost function for the line formed with the slope and intercept is the lowest.\n",
    "To observe how the cost function, slope and intercept get changed, uncomment the if statement.\n",
    "Over here we are creating a function that will train our data by calling the cost function and gradient descent function internally.\n",
    "'''\n",
    "def train(X_train,y_train,slope,intercept,lr,iters):\n",
    "    cost_history = []\n",
    "    for i in range(iters):\n",
    "        slope,intercept = gradient_descent(x,y,slope,intercept,lr)\n",
    "        cost = cost_function(x,y,slope,intercept)\n",
    "        cost_history.append([slope,intercept,cost])\n",
    "#        if i%50==0:\n",
    "#            print(\"The error is :{:.4f}, slope is: {:.4f} and intercept is : {:.4f}\".format(cost,slope,intercept))\n",
    "    traindf = pd.DataFrame(cost_history, columns=['slope','intercept','error'])\n",
    "    slope_val = traindf.error.idxmin()\n",
    "    (traindf.slope.iloc[slope_val],traindf.intercept.iloc[slope_val])\n",
    "    return ((traindf.slope.iloc[slope_val],traindf.intercept.iloc[slope_val]))"
   ]
  },
  {
   "cell_type": "code",
   "execution_count": 11,
   "metadata": {},
   "outputs": [],
   "source": [
    "'''\n",
    "Here we are calling the train function to get the calculated value of Slope and Intercept,\n",
    "which i found out by processing the Data.\n",
    "You can uncomment the print statement to find the values of Slope and Intercept returned.\n",
    "'''\n",
    "m,c = train(X_train,y_train,0.805,8.35,0.002,1000)\n",
    "#print(\"m : {} and c : {}\".format(m,c))"
   ]
  },
  {
   "cell_type": "code",
   "execution_count": 12,
   "metadata": {},
   "outputs": [
    {
     "name": "stdout",
     "output_type": "stream",
     "text": [
      "print m :0.8029601790134907 and c :8.355962955264562\n"
     ]
    }
   ],
   "source": [
    "'''Prediction Function\n",
    "Based on the values returned by the train function we will now predict the Beer Consumption based on equating the follownig equation:\n",
    "y = m*x +c\n",
    "x -> Now the x that we will pass is X_test. We have trained the data and want to do predictions\n",
    "\n",
    "'''\n",
    "def predict_sales(m,x,c):\n",
    "    print(\"print m :{} and c :{}\".format(m,c))\n",
    "    return (m*x+c)\n",
    "lets_predict = predict_sales(m,X_test,c)"
   ]
  },
  {
   "cell_type": "code",
   "execution_count": 13,
   "metadata": {},
   "outputs": [
    {
     "name": "stdout",
     "output_type": "stream",
     "text": [
      "1.3078108342324049\n"
     ]
    }
   ],
   "source": [
    "'''\n",
    "We are now comparing our predictions based on calculations performed by the predict_sales with the actual values of the \n",
    "Mean Absolute Error is one way of doing it. \n",
    "'''\n",
    "my_mae = mean_absolute_error(lets_predict,y_test)\n",
    "print(my_mae)"
   ]
  },
  {
   "cell_type": "code",
   "execution_count": null,
   "metadata": {},
   "outputs": [],
   "source": []
  }
 ],
 "metadata": {
  "kernelspec": {
   "display_name": "Python 3",
   "language": "python",
   "name": "python3"
  },
  "language_info": {
   "codemirror_mode": {
    "name": "ipython",
    "version": 3
   },
   "file_extension": ".py",
   "mimetype": "text/x-python",
   "name": "python",
   "nbconvert_exporter": "python",
   "pygments_lexer": "ipython3",
   "version": "3.8.3"
  }
 },
 "nbformat": 4,
 "nbformat_minor": 4
}
